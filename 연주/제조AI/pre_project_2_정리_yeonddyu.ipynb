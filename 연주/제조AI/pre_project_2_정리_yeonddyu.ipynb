version https://git-lfs.github.com/spec/v1
oid sha256:565bdb039cddf262d835f3485dc5d03a1d32f17b897ab3c1540196379323117d
size 1167986
