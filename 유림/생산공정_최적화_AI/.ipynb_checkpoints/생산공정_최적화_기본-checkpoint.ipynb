version https://git-lfs.github.com/spec/v1
oid sha256:e0596e592f152ef2c84f72068afbb10e9e82cce693bfd17586f28bb86dda6c45
size 285404
