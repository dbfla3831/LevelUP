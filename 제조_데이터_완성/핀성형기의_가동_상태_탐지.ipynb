version https://git-lfs.github.com/spec/v1
oid sha256:9cf85872ca339c922363c2f5cda73eed6883e93345c8b227a8c8b15950ca85ce
size 496618
