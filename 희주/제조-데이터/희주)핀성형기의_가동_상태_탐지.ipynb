version https://git-lfs.github.com/spec/v1
oid sha256:8168d80124c774495d98d5717d30363c73b5fbef3964901dbe408e115aa5b402
size 377744
