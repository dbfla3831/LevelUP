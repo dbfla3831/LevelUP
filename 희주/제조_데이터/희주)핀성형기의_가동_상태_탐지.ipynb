version https://git-lfs.github.com/spec/v1
oid sha256:969ee7c263a9a163eb610c224ed2f50c94d74fbcf63b04aece508334bb6b0a7a
size 377743
